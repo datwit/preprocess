{
 "cells": [
  {
   "cell_type": "markdown",
   "metadata": {},
   "source": [
    "# Applying Preprocess for Real\n",
    "\n",
    "This tutorial intends to show ``preprocess`` in a real context. After a \n",
    "quickstart in the library, and the bases of text normalization with \n",
    "python, the next obvious step is to apply preprocessing techniques in a \n",
    "real NLP problem\n",
    "\n",
    "The selected problem is *Semantic Text Similarity*."
   ]
  },
  {
   "cell_type": "markdown",
   "metadata": {},
   "source": [
    "## Semantic Text Similarity\n",
    "\n",
    "SEMEVAl is an International Workshop on Semantic Evaluation, currently\n",
    "part of Lexical and Computational Semantic and Semantic Evaluation\n",
    "scientific conference. The objective of this workshop is to measure\n",
    "the degree of semantic equivalence between two texts. The data is\n",
    "composed by sentence pairs, coming from previously existing paraphrase\n",
    "datasets [Agirre2012]_. This event is divided in tasks, the task of \n",
    "interest here is [Semantic Text Similarity](http://alt.qcri.org/semeval2012/task17/)\n",
    "\n",
    "Usually in the gold standard the semantic equivalence is measured with\n",
    "a float number between [0-5]."
   ]
  },
  {
   "cell_type": "markdown",
   "metadata": {},
   "source": [
    "## Dataset\n",
    "\n",
    "The data used for this example is a small part of SemEval 2012 Shared\n",
    "[Task 6 Dataset](https://www.cs.york.ac.uk/semeval-2012/task6/index.php%3Fid=data.html), the en-en subset.\n",
    "\n",
    "The subset is from MSR-Paraphrase, [Microsoft Research Paraphrase Corpus](http://research.microsoft.com/en-us/downloads/607d14d9-20cd-47e3-85bc-a2f65cd28042/).\n",
    "750 pairs of sentences.\n",
    "\n",
    "### Legal Note\n",
    "\n",
    "STS 2012 Dataset is under this licenses:\n",
    "* http://research.microsoft.com/en-us/downloads/607d14d9-20cd-47e3-85bc-a2f65cd28042/\n",
    "* http://research.microsoft.com/en-us/downloads/38cf15fd-b8df-477e-a4e4-a4680caa75af/"
   ]
  },
  {
   "cell_type": "code",
   "execution_count": null,
   "metadata": {},
   "outputs": [],
   "source": [
    "#import the dataset"
   ]
  },
  {
   "cell_type": "markdown",
   "metadata": {},
   "source": [
    "### Requirements"
   ]
  },
  {
   "cell_type": "code",
   "execution_count": 1,
   "metadata": {},
   "outputs": [],
   "source": [
    "import preprocess"
   ]
  },
  {
   "cell_type": "markdown",
   "metadata": {},
   "source": [
    "## Machine Learning model\n",
    "\n",
    "[Some kind of Logistic Regression for classification.]\n",
    "\n",
    "[Features, use textsim.calc_all](make a brief description here, and link with github.com/sorice/textsim)"
   ]
  },
  {
   "cell_type": "markdown",
   "metadata": {},
   "source": []
  },
  {
   "cell_type": "markdown",
   "metadata": {},
   "source": [
    "### Trainin Process\n",
    "\n",
    "Train without preprocess\n",
    "\n",
    "Train with preprocess"
   ]
  },
  {
   "cell_type": "code",
   "execution_count": null,
   "metadata": {},
   "outputs": [],
   "source": []
  },
  {
   "cell_type": "markdown",
   "metadata": {},
   "source": [
    "## Cross Validation\n",
    "\n",
    "[Show differences between scores obtained with/without preprocess]"
   ]
  },
  {
   "cell_type": "code",
   "execution_count": null,
   "metadata": {},
   "outputs": [],
   "source": []
  },
  {
   "cell_type": "markdown",
   "metadata": {},
   "source": [
    "## Recommendations\n",
    "\n",
    "* usually we must reduce dimensionality, for better interpretabillity\n",
    "  of the model, less complexity, reduce the training time, avoid \n",
    "  overfitting and gain capacity of generalization \n",
    "\n",
    "* Feature selection process is not objective of this tutorial, but it\n",
    "  is recommended that comparing the list of must important features,\n",
    "  could show how preprocess is relevant for improving results, due to\n",
    "  the straight relation between preprocess and selected features. "
   ]
  },
  {
   "cell_type": "markdown",
   "metadata": {},
   "source": [
    "## Other Applications\n",
    "\n",
    "``preprocess`` library has been used successfully as part of the\n",
    "following projects:\n",
    "\n",
    "- [Text Preprocessing Chapter of MyNLP Course Py3 version](file:///media/abelm/Almacen/Doctorado/Notas_de_la_Investigacion/03_Mi_Curso_Postgrado_Natural_Language_Process/02_Pre-Procesamiento_py3/)\n",
    "- [Text Preprocessing Chapter of MyNLP Course Py2 version](file:///media/abelm/Almacen/Doctorado/Notas_de_la_Investigacion/03_Mi_Curso_Postgrado_Natural_Language_Process/02_Pre-Procesamiento)\n",
    "- [Llanes-corpus similarity experiment active](file:///media/abelm/Almacen/Doctorado/01_Codigos/2016-02_Llanes_simCalcFlow/)\n",
    "- [Next text-reuse experiment active](file:///media/abelm/Almacen/Doctorado/01_Codigos/2015-11-30_Llanes_similarity_Example_8_test_15/)\n",
    "- [repository of my Text-Reuse algorithm](file:///media/abelm/Almacen/Doctorado/00_plag_algh/)\n",
    "\n",
    "### Older uses\n",
    "\n",
    "Older versions of this module. Be careful! Many of this URLs are the ancient versions with different software architectures.\n",
    "\n",
    "- [QtNLP-Linguist module](https://github.com/sorice/QtNLP-Linguist)"
   ]
  }
 ],
 "metadata": {
  "kernelspec": {
   "display_name": "Python 3",
   "language": "python",
   "name": "python3"
  },
  "language_info": {
   "codemirror_mode": {
    "name": "ipython",
    "version": 3
   },
   "file_extension": ".py",
   "mimetype": "text/x-python",
   "name": "python",
   "nbconvert_exporter": "python",
   "pygments_lexer": "ipython3",
   "version": "3.8.2"
  }
 },
 "nbformat": 4,
 "nbformat_minor": 4
}
