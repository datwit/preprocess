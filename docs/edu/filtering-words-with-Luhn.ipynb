{
 "cells": [
  {
   "cell_type": "markdown",
   "metadata": {},
   "source": [
    "<small><i>This notebook is a reviewed English version (2020) of \"*03.1b-Ley-de-Luhn.ipynb*\" on the collection [nlp_pydata2018 on GitHub](https://github.com/sorice/nlp_pydata2018/).</i></small>"
   ]
  },
  {
   "cell_type": "markdown",
   "metadata": {},
   "source": [
    "# Advanced Preprocessing: Luhn Eg.\n",
    "\n",
    "This section is an advanced section on NLP and its basic processes. To \n",
    "reach the goal of this notebook you must know how to filter the stopwords \n",
    "which are words without semantic content and the most frequent ones, also \n",
    "how to steamm word suffixes. In any of those cases, statistics are essential \n",
    "for the algorithm or for the learning mechanism to be used, and in every \n",
    "step we can see how the number of words is reduced trying to find the most \n",
    "important ones.\n",
    "\n",
    "Let's now look at an example of NLP very close related to the field of \n",
    "_Information Retrieval_. It is all about **Luhn's Law** [2], or the problem \n",
    "of finding the boundaries of the most important words in a document, usually \n",
    "for long texts like books."
   ]
  },
  {
   "cell_type": "markdown",
   "metadata": {},
   "source": [
    "## Roadmap Summary\n",
    "\n",
    "###  Datasets\n",
    "\n",
    "For all the examples, two books will be used, one in English and the \n",
    "other in Spanish. One if the translation of the other, and both are under\n",
    "Creative Common license. The first is _Free Culture_ and the second is its\n",
    "Spanish translation _Cultura Libre_.\n",
    "\n",
    "### Transforming Dataset Texts\n",
    "\n",
    "Generally, almost all the materials that we have are PDFs and to operate \n",
    "with texts in python it is best to use simple text formats like .txt. Then,\n",
    "how to transform PDF into TXT?\n",
    "\n",
    "Our recommendation is to use pypdf2 that appears in the GNU / Linux \n",
    "repositories and it is a pure python library \n",
    "(see [Text Extraction with pdfMiner](https://github.com/sorice/nlp_pydata2018/blob/master/02.1-Text-Extraction-with-PDFMiner.ipynb)). \n",
    "If you know any script suitable for this task using the ghostscript \n",
    "library, we recommend it over pdftotext. However it is quite difficult \n",
    "to find such a custom script for our needs.\n",
    "\n",
    "The _text-preproc_ library since v0.2 includes a helper function that \n",
    "wraps the pypdf2 library to extract the text.\n",
    "\n",
    "\n",
    "```python\n",
    "from preprocess.utils.io import pdf\n",
    "PDF = pdf('/path/to/pdf/file.pdf')\n",
    "text = PDF.extractText() \n",
    "with open('/path/for/new/file.txt','w') as doc:\n",
    "    doc.write(text)\n",
    "```\n",
    "\n",
    "If you are using preprocess v0.1 use _pdftotext_ included in the poppler-utils package.\n",
    "\n",
    "```bash\n",
    "~$ pdftotext file.pdf\n",
    "```\n",
    "\n",
    "**Result:** file.txt\n",
    "\n",
    "Keep in mind that text extraction scripts generate .txt files with many \n",
    "problems: mainly rare characters. Perhaps it will be more useful for \n",
    "the reader to study more specialized applications and libraries for \n",
    "this type of word processing problem such as: Apache-Tika, among others. \n",
    "However, in the following sections _Transforming text_ some tips can be\n",
    "found out about how to solve these problems without using large libraries to \n",
    "obtain good result in basic NLP subprocess."
   ]
  },
  {
   "cell_type": "markdown",
   "metadata": {},
   "source": [
    "## Transforming Text\n",
    "\n",
    "The next codes transform text to allow the application of statistical analysis to build Luhn model."
   ]
  },
  {
   "cell_type": "code",
   "execution_count": 1,
   "metadata": {},
   "outputs": [],
   "source": [
    "import preprocess"
   ]
  },
  {
   "cell_type": "code",
   "execution_count": 2,
   "metadata": {},
   "outputs": [],
   "source": [
    "from preprocess.data import load_freeculture\n",
    "from preprocess.demo import preProcessFlow\n",
    "text = load_freeculture()\n",
    "text = preProcessFlow(text).lower()\n",
    "text = preprocess.del_digits(text)"
   ]
  },
  {
   "cell_type": "code",
   "execution_count": 3,
   "metadata": {},
   "outputs": [
    {
     "name": "stdout",
     "output_type": "stream",
     "text": [
      "Total words:  120303\n"
     ]
    }
   ],
   "source": [
    "from nltk.tokenize import RegexpTokenizer\n",
    "tokenizer = RegexpTokenizer(\"\\s+\", gaps=True)\n",
    "tokens = tokenizer.tokenize(text)\n",
    "print (\"Total words: \", len(tokens))"
   ]
  },
  {
   "cell_type": "markdown",
   "metadata": {},
   "source": [
    "En ambos casos se devuelve el total de palabras(o tokens) divididos por el caracter\n",
    "*espacio*. Sin embargo las palabras en un texto se repiten. ¿Cómo saber las palabras\n",
    "únicas?"
   ]
  },
  {
   "cell_type": "code",
   "execution_count": 4,
   "metadata": {},
   "outputs": [
    {
     "name": "stdout",
     "output_type": "stream",
     "text": [
      "Unique words: 8233\n"
     ]
    }
   ],
   "source": [
    "tokens_unique=set([])\n",
    "tokens_unique = set(tokens)\n",
    "print (\"Unique words:\", len(tokens_unique))"
   ]
  },
  {
   "cell_type": "markdown",
   "metadata": {},
   "source": [
    "As it can be seen in the book of Bird et al.[[1](#Bird2009)] the simplest \n",
    "question we can make when we see these numbers are: Which is the average\n",
    "of words by page? Which is the must used or frequent word? What words\n",
    "are used only one time? Lets see some ways to calculate that, to get those\n",
    "goals will be needed some extra functions.\n",
    "\n",
    "<a id='sect2.5'></a>"
   ]
  },
  {
   "cell_type": "code",
   "execution_count": 5,
   "metadata": {},
   "outputs": [],
   "source": [
    "#Start a dict to keep the frequence of every word\n",
    "dict = {}\n",
    "for word in tokens_unique:\n",
    "    dict[word]=0\n",
    "#Dict with word = frequence of word.\n",
    "for token in tokens:\n",
    "    dict[token]+=1\n",
    "#A list of tuples with more info can result in a better resource. List([(Frequence1, word1),(freq2,word2),...])\n",
    "tupla = []\n",
    "for word in dict:\n",
    "    tupla.append([dict[word],word])"
   ]
  },
  {
   "cell_type": "markdown",
   "metadata": {},
   "source": [
    "This tuple can be ordered like this: because the frequence is in the first\n",
    "position, the list tupla can be sortered using *tupla[i][0]*."
   ]
  },
  {
   "cell_type": "code",
   "execution_count": 6,
   "metadata": {},
   "outputs": [
    {
     "name": "stdout",
     "output_type": "stream",
     "text": [
      "The 10 must frequent words are:\n",
      ". : 9178\n",
      "the : 6909\n",
      "of : 3479\n",
      "to : 3180\n",
      "a : 2408\n",
      "is : 2198\n",
      "that : 2052\n",
      "and : 1922\n",
      "in : 1718\n",
      "it : 1276\n"
     ]
    }
   ],
   "source": [
    "tupla=sorted(tupla)\n",
    "print (\"The 10 must frequent words are:\")\n",
    "for i in range(1,11):\n",
    "    print (tupla[-i][1],\":\",tupla[-i][0])"
   ]
  },
  {
   "cell_type": "markdown",
   "metadata": {},
   "source": [
    "As can be seen the words are non useful words, or stopwords or the puntuaction sign."
   ]
  },
  {
   "cell_type": "code",
   "execution_count": 7,
   "metadata": {},
   "outputs": [
    {
     "name": "stdout",
     "output_type": "stream",
     "text": [
      "{'some', 'their', 'again', 'itself', 'where', 'pages', 'should', 'while', 'so', 'into', 'me', 'any', 'same', 'with', 'did', 'herself', 'which', 'why', 'ours', 'just', 'were', 'through', 'each', 'being', 'by', 'our', 'its', 'than', 'we', 'it', 'after', 'between', 'would', 'off', 'could', 'don', 'an', 'both', 'over', 'to', 'under', 'more', 'not', 'once', 'having', 'what', 'before', 'one', 'do', 'yourself', 'out', 'this', 'about', 'my', 'his', 'yourselves', 'does', 'because', 'against', 'myself', 'they', 'up', 'here', '_r', 'for', 'nor', 'most', 'jm_qxd', 'yours', 'doing', 'if', 'those', 'all', 'pass', 'when', 'that', 'who', 'of', 'are', 'above', 'them', 'ourselves', 'during', 'be', 'on', 'down', 'themselves', 'only', 'and', 'can', 'these', 'theirs', 'such', 'how', 'but', 'in', 'have', 'your', 'very', 'no', 'hers', 'she', 'whom', 'further', 'i', 's', 'is', 'below', 't', 'the', 'until', 'am', 'few', 'now', 'her', 'will', 'too', 'a', 'from', 'has', 'himself', 'he', 'own', 'you', 'been', 'other', 'him', 'had', 'at', 'page', 'was', 'there', 'pm', '❚❘', 'as', 'then', 'or', 'th'}\n"
     ]
    }
   ],
   "source": [
    "import time\n",
    "from nltk.corpus import stopwords\n",
    "timei = time.time()\n",
    "english_stops = set(stopwords.words('en'))\n",
    "#This updates are agregated after some experimental observation, because\n",
    "#normalization process required more analysis time \n",
    "english_stops.update(['would','pm','pages','page','th', '_r', 'could','pass','jm_qxd','❚❘','one'])\n",
    "print(english_stops)"
   ]
  },
  {
   "cell_type": "code",
   "execution_count": 8,
   "metadata": {},
   "outputs": [
    {
     "name": "stdout",
     "output_type": "stream",
     "text": [
      "Stopword filtering time:  2.2512850761413574\n",
      "Uunique words without stopw: 8071\n",
      "The 10 must frequent words after stopwords filtering are:\n",
      "copyright : 720\n",
      "law : 615\n",
      "free : 441\n",
      "culture : 374\n",
      "property : 356\n",
      "content : 281\n",
      "right : 246\n",
      "work : 242\n",
      "use : 239\n",
      "internet : 238\n",
      "Total words:  120303\n",
      "Total text words without stopwords: 55482\n",
      "Deleted words after stopwords filtering: 64821\n"
     ]
    }
   ],
   "source": [
    "tokens_afterstops=[]\n",
    "for k in range(len(tokens)-1):\n",
    "    if tokens[k] not in english_stops and len(tokens[k])>1:\n",
    "        tokens_afterstops.append(tokens[k])\n",
    "timef = time.time()-timei\n",
    "print (\"Stopword filtering time: \",timef)\n",
    "\n",
    "tokens_unique1 = set(tokens_afterstops)\n",
    "dict1 = {} #dict con keys = set de tokens after stops\n",
    "for word in tokens_unique1:\n",
    "    dict1[word]=0\n",
    "\n",
    "tupla1 = [] #Creating list of tuples (frequence,word) without stopwords\n",
    "for token in tokens_afterstops:\n",
    "    dict1[token]+=1\n",
    "for word in dict1:\n",
    "    tupla1.append([dict1[word],word])\n",
    "tupla1=sorted(tupla1)\n",
    "\n",
    "print (\"Uunique words without stopw:\", len(tokens_unique1))\n",
    "print (\"The 10 must frequent words after stopwords filtering are:\")\n",
    "for i in range(1,11):\n",
    "    print (tupla1[-i][1],\":\",tupla1[-i][0])\n",
    "print (\"Total words: \", len(tokens))\n",
    "print (\"Total text words without stopwords:\", len(tokens_afterstops))\n",
    "print (\"Deleted words after stopwords filtering:\", \n",
    "len(tokens)-len(tokens_afterstops))"
   ]
  },
  {
   "cell_type": "markdown",
   "metadata": {},
   "source": [
    "## Luhn Model in Linguistics\n",
    "\n",
    "Luhn argues that long texts have a logaritmic function behavior or a long\n",
    "tal function. Where the stopwords are at the beginning and the less \n",
    "frequent words are in the long tail. Lets see a graph of the book Free \n",
    "Culture. Using the variable _tupla_  the [2.5](#sect2.5) section code \n",
    "a _numpy_ array is built and the media($\\mu$) and the variance($\\sigma$) \n",
    "are extrated to be used in future calculations."
   ]
  },
  {
   "cell_type": "code",
   "execution_count": 147,
   "metadata": {},
   "outputs": [
    {
     "name": "stdout",
     "output_type": "stream",
     "text": [
      "Populating the interactive namespace from numpy and matplotlib\n"
     ]
    }
   ],
   "source": [
    "%pylab inline"
   ]
  },
  {
   "cell_type": "code",
   "execution_count": 43,
   "metadata": {},
   "outputs": [
    {
     "name": "stdout",
     "output_type": "stream",
     "text": [
      "14.612291995627354\n",
      "153.12755040987275\n",
      "(8233,)\n"
     ]
    },
    {
     "data": {
      "image/png": "[encoded data removed]",
      "text/plain": [
       "<Figure size 432x288 with 1 Axes>"
      ]
     },
     "metadata": {
      "needs_background": "light"
     },
     "output_type": "display_data"
    }
   ],
   "source": [
    "xarray = []\n",
    "t=numpy.linspace(0,len(tupla),num=len(tupla))\n",
    "for i in range(len(tupla)):\n",
    "    xarray.append(tupla[i][0])\n",
    "xarray.reverse()\n",
    "\n",
    "x = numpy.array(xarray,dtype=numpy.int16)\n",
    "mux = x.mean()\n",
    "sigmax = x.std()\n",
    "print (mux) \n",
    "print (sigmax)\n",
    "print (x.shape)\n",
    "\n",
    "plt.plot(t[10:400],x[10:400])\n",
    "plt.title(\"Luhn Distribution Book Free Culture\")\n",
    "plt.show()"
   ]
  },
  {
   "cell_type": "markdown",
   "metadata": {},
   "source": [
    "### Generate a normal distribution based on Zeta.\n",
    "\n",
    "This step is personal proposal because of the dark in the original\n",
    "Luhn article [[2](#Luhn1958)] with respect to the boundaries for cutting. \n",
    "Some papers consider that in the obtention of these limits there is\n",
    "certain empirism. Calcs are made based on a nule hypotesis.\n",
    "[Keith web book, chapter2](http://www.dcs.gla.ac.uk/Keith/Chapter.2/Ch.2.html)"
   ]
  },
  {
   "cell_type": "code",
   "execution_count": 140,
   "metadata": {},
   "outputs": [
    {
     "name": "stdout",
     "output_type": "stream",
     "text": [
      "113 427\n",
      "270.686232489232 78.46649164766025\n"
     ]
    }
   ],
   "source": [
    "sigma = x_s.std()\n",
    "mu = x_s.mean()+3*sigma\n",
    "\n",
    "pdf = (1/(sigma * numpy.sqrt(2 * numpy.pi))\n",
    "* numpy.exp( - (t - mu)**2 / (2 * sigma**2) ))\n",
    "\n",
    "perc_05 = int(mu-2*sigma)\n",
    "perc_95 = int(mu+2*sigma)\n",
    "print(perc_05, perc_95)\n",
    "print (mu, sigma)"
   ]
  },
  {
   "cell_type": "code",
   "execution_count": 145,
   "metadata": {},
   "outputs": [
    {
     "name": "stdout",
     "output_type": "stream",
     "text": [
      "(2054,)\n",
      "22.27677449217962\n",
      "5.143847691885105\n"
     ]
    }
   ],
   "source": [
    "x_s = x[(x > 5) & (x < 1000)]\n",
    "print(x_s.shape)\n",
    "print(x[113]/(x.max()*pdf[113]))\n",
    "print(x[427]/(x.max()*pdf[427]))\n",
    "factor = x[113]/(x.max()*pdf[113]) - x[427]/(x.max()*pdf[427])"
   ]
  },
  {
   "cell_type": "code",
   "execution_count": 142,
   "metadata": {},
   "outputs": [
    {
     "data": {
      "text/plain": [
       "138"
      ]
     },
     "execution_count": 142,
     "metadata": {},
     "output_type": "execute_result"
    }
   ],
   "source": [
    "x[113]"
   ]
  },
  {
   "cell_type": "code",
   "execution_count": 146,
   "metadata": {},
   "outputs": [
    {
     "data": {
      "image/png": "[encoded data removed]",
      "text/plain": [
       "<Figure size 432x288 with 1 Axes>"
      ]
     },
     "metadata": {
      "needs_background": "light"
     },
     "output_type": "display_data"
    }
   ],
   "source": [
    "import matplotlib.pyplot as plt\n",
    "t = np.arange(0,1500,1)\n",
    "# lower cut-off.\n",
    "plt.axvline(perc_05,label='05 perc',c='r')\n",
    "# cut-off.\n",
    "plt.axvline(perc_95,label='95t perc',c='m')\n",
    "p=x[10:int(mu)].mean()\n",
    "#plt.twiny()\n",
    "#Ploting Zipf distribution\n",
    "plt.plot(t[:1100],x_s[:1100]/(x.max()), c='b')\n",
    "#Ploting density function\n",
    "plt.plot(t[:1100],pdf[:1100]*factor, c='g')\n",
    "plt.show()\n"
   ]
  },
  {
   "cell_type": "markdown",
   "metadata": {},
   "source": [
    "## Must Important Words"
   ]
  },
  {
   "cell_type": "code",
   "execution_count": 137,
   "metadata": {},
   "outputs": [
    {
     "name": "stdout",
     "output_type": "stream",
     "text": [
      "terms : 67\n",
      "user : 24\n",
      "All important words: [[24, 'user'], [24, 'write'], [25, 'ability'], [25, 'ask'], [25, 'based'], [25, 'data'], [25, 'debate'], [25, 'democracy'], [25, 'develop'], [25, 'easily'], [25, 'images'], [25, 'libraries'], [25, 'meaning'], [25, 'napster'], [25, 'person'], [25, 'progress'], [25, 'publishing'], [25, 'regulate'], [25, 'sales'], [25, 'school'], [25, 'stories'], [25, 'text'], [25, 'whose'], [26, 'began'], [26, 'david'], [26, 'effective'], [26, 'effectively'], [26, 'generally'], [26, 'gets'], [26, 'increase'], [26, 'knowledge'], [26, 'limit'], [26, 'movie'], [26, 'office'], [26, 'really'], [26, 'rule'], [26, 'songs'], [26, 'sony'], [26, 'stations'], [26, 'strategy'], [26, 'web'], [27, 'already'], [27, 'becomes'], [27, 'certain'], [27, 'consider'], [27, 'extend'], [27, 'extension'], [27, 'given'], [27, 'interests'], [27, 'kahle'], [27, 'matter'], [27, 'produce'], [27, 'publisher'], [27, 'side'], [27, 'special'], [27, 'station'], [27, 'william'], [27, 'wrote'], [28, 'artist'], [28, 'copying'], [28, 'decision'], [28, 'defend'], [28, 'far'], [28, 'issue'], [28, 'laws'], [28, 'limits'], [28, 'lost'], [28, 'past'], [28, 'song'], [28, 'true'], [29, 'armstrong'], [29, 'commerce'], [29, 'courts'], [29, 'extended'], [29, 'imagine'], [29, 'little'], [29, 'monopoly'], [29, 'notes'], [29, 'practice'], [29, 'published'], [29, 'records'], [29, 'september'], [30, 'allowed'], [30, 'asked'], [30, 'burden'], [30, 'concentration'], [30, 'five'], [30, 'gives'], [30, 'microsoft'], [30, 'patent'], [30, 'privacy'], [30, 'rather'], [30, 'sold'], [31, 'buy'], [31, 'call'], [31, 'called'], [31, 'cd'], [31, 'drug'], [31, 'gave'], [31, 'last'], [31, 'response'], [31, 'students'], [31, 'thing'], [31, 'users'], [31, 'words'], [32, 'benefit'], [32, 'brothers'], [32, 'come'], [32, 'future'], [32, 'keep'], [32, 'mp'], [32, 'review'], [32, 'using'], [33, 'commons'], [33, 'done'], [33, 'extraordinary'], [33, 'fm'], [33, 'go'], [33, 'information'], [33, 'kids'], [33, 'process'], [33, 'says'], [33, 'sell'], [33, 'single'], [33, 'sound'], [34, 'americans'], [34, 'association'], [34, 'best'], [34, 'changed'], [34, 'clause'], [34, 'cost'], [34, 'created'], [34, 'described'], [34, 'granted'], [34, 'material'], [34, 'old'], [34, 'open'], [34, 'reason'], [34, 'regulated'], [34, 'requirement'], [34, 'scope'], [34, 'source'], [34, 'three'], [35, 'enough'], [35, 'great'], [35, 'mean'], [35, 'original'], [35, 'paid'], [35, 'since'], [35, 'u_s_'], [36, 'bill'], [36, 'built'], [36, 'cases'], [36, 'derivative'], [36, 'find'], [36, 'hard'], [36, 'ideas'], [36, 'infringement'], [36, 'range'], [36, 'registration'], [36, 'therefore'], [36, 'video'], [36, 'wanted'], [36, 'ways'], [37, 'bit'], [37, 'day'], [37, 'drugs'], [37, 'four'], [37, 'going'], [37, 'innovation'], [37, 'longer'], [37, 'second'], [37, 'statute'], [37, 'taking'], [37, 'things'], [37, 'valenti'], [38, 'aim'], [38, 'always'], [38, 'assure'], [38, 'back'], [38, 'company'], [38, 'ever'], [38, 'jesse'], [38, 'let'], [38, 'noncommercial'], [38, 'quite'], [38, 'university'], [38, '❙❚❘'], [39, 'argued'], [39, 'business'], [39, 'create'], [39, 'end'], [39, 'library'], [39, 'put'], [39, 'rules'], [39, 'ten'], [40, 'architecture'], [40, 'archive'], [40, 'competition'], [40, 'context'], [40, 'formalities'], [40, 'high'], [40, 'house'], [40, 'powerful'], [41, 'anything'], [41, 'better'], [41, 'type'], [42, 'cable'], [42, 'give'], [42, 'problem'], [42, 'produced'], [42, 'society'], [42, 'want'], [43, 'america'], [43, 'either'], [43, 'however'], [43, 'lawyer'], [43, 'making'], [43, 'networks'], [43, 'thought'], [44, 'doubt'], [44, 'makes'], [44, 'patents'], [44, 'press'], [44, 'someone'], [44, 'spread'], [44, 'told'], [45, 'constitution'], [45, 'money'], [46, 'limited'], [47, 'existing'], [47, 'less'], [47, 'publishers'], [47, 'said'], [48, 'author'], [48, 'enable'], [48, 'long'], [48, 'protected'], [48, 'real'], [49, 'around'], [49, 'become'], [49, 'believe'], [49, 'claim'], [49, 'form'], [49, 'value'], [49, 'year'], [50, 'computer'], [50, 'harm'], [50, 'justice'], [50, 'possible'], [50, 'still'], [51, 'authors'], [51, 'exclusive'], [51, 'record'], [52, 'build'], [52, 'copies'], [52, 'indeed'], [52, 'john'], [52, 'license'], [52, 'network'], [52, 'number'], [52, 'obvious'], [52, 'simple'], [53, 'course'], [53, 'general'], [53, 'nothing'], [53, 'supreme'], [54, 'clear'], [54, 'kind'], [54, 'means'], [54, 'read'], [54, 'view'], [55, 'increasingly'], [55, 'protect'], [55, 'television'], [55, 'though'], [56, 'another'], [56, 'creators'], [56, 'films'], [56, 'know'], [56, 'policy'], [56, 'times'], [56, 'understand'], [56, 'uses'], [57, 'file'], [57, 'instead'], [57, 'lawyers'], [57, 'million'], [58, 'books'], [59, 'else'], [60, 'costs'], [60, 'eldred'], [60, 'freedom'], [60, 'particular'], [60, 'protection'], [60, 'simply'], [62, 'code'], [62, 'must'], [62, 'riaa'], [63, 'balance'], [63, 'never'], [63, 'say'], [64, 'effect'], [64, 'question'], [64, 'regulation'], [65, 'companies'], [65, 'pay'], [65, 'york'], [66, 'artists'], [66, 'changes'], [66, 'copyrighted'], [66, 'need'], [66, 'story'], [67, 'set'], [67, 'terms']]\n"
     ]
    }
   ],
   "source": [
    "print (tupla1[-perc_05][1],\":\",tupla1[-perc_05][0])\n",
    "print (tupla1[-perc_95][1],\":\",tupla1[-perc_95][0])\n",
    "print ('All important words:', tupla1[len(tupla1)-perc_95:len(tupla1)-perc_05+1])"
   ]
  },
  {
   "cell_type": "markdown",
   "metadata": {},
   "source": [
    "This method is widely used in the generation of automatic summaries. \n",
    "It can be used to give weight to the words within the document, and \n",
    "extract the most weighted structures: sentences, paragraphs, etc. \n",
    "As can be seen in the example of the book \"Free Culture\", this method \n",
    "leaves 300 significant words from 120303 words in the original text."
   ]
  },
  {
   "cell_type": "markdown",
   "metadata": {},
   "source": [
    "## References\n",
    "\n",
    "[1] *[Bird2009]* Steven Bird, Ewan Klain & Edward Loper,. \n",
    "Book **Natural Language Processing with Python**. 2009. \n",
    "p. 10 **ISBN**: 978-0-596-51649-9\n",
    "\n",
    "[2] *[Luhn1958]* H.P. Luhn. Paper **The Automatic Creation of Literature Abstract**. \n",
    "*IBM Journal*, 1958."
   ]
  },
  {
   "cell_type": "markdown",
   "metadata": {},
   "source": [
    "## Alphabetic Index\n",
    "\n",
    "**Token**: in linguistics is an individual occurrence of a linguistic unit, generally referred as the smallest unit of processing: words, phonemes, n-grams, etc."
   ]
  }
 ],
 "metadata": {
  "kernelspec": {
   "display_name": "Python 3",
   "language": "python",
   "name": "python3"
  },
  "language_info": {
   "codemirror_mode": {
    "name": "ipython",
    "version": 3
   },
   "file_extension": ".py",
   "mimetype": "text/x-python",
   "name": "python",
   "nbconvert_exporter": "python",
   "pygments_lexer": "ipython3",
   "version": "3.8.2"
  }
 },
 "nbformat": 4,
 "nbformat_minor": 4
}
