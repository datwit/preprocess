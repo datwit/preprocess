{
 "metadata": {
  "name": "",
  "signature": "sha256:f380e2a1e5a8de7e2cf960e1852ca523eb14e7cd5f3133e04d6ec5b4f410cfc5"
 },
 "nbformat": 3,
 "nbformat_minor": 0,
 "worksheets": [
  {
   "cells": [
    {
     "cell_type": "markdown",
     "metadata": {},
     "source": [
      "## Load Preprocess Module\n",
      "\n",
      "Testing POS Tagging."
     ]
    },
    {
     "cell_type": "code",
     "collapsed": false,
     "input": [
      "import sys\n",
      "sys.path.append('/home/abelm')\n",
      "\n",
      "import preprocess\n",
      "preprocess.pos('What is the airspeed of an unladen swallow ?')"
     ],
     "language": "python",
     "metadata": {},
     "outputs": [
      {
       "metadata": {},
       "output_type": "pyout",
       "prompt_number": 3,
       "text": [
        "[('What', 'WP'),\n",
        " ('is', 'VBZ'),\n",
        " ('the', 'DT'),\n",
        " ('airspeed', 'NN'),\n",
        " ('of', 'IN'),\n",
        " ('an', 'DT'),\n",
        " ('unladen', 'JJ'),\n",
        " ('swallow', 'VB'),\n",
        " ('?', '.')]"
       ]
      }
     ],
     "prompt_number": 3
    },
    {
     "cell_type": "markdown",
     "metadata": {},
     "source": [
      "## Testing Accuracy of POS Model Tagger"
     ]
    },
    {
     "cell_type": "code",
     "collapsed": false,
     "input": [
      "#import process\n",
      "#from process.shallow import pos\n",
      "\n",
      "#pos(arg?)\n",
      "\n",
      "from nltk.corpus import treebank\n",
      "train_sents = treebank.tagged_sents()[:50]\n",
      "test_sents = treebank.tagged_sents()[51:101]"
     ],
     "language": "python",
     "metadata": {},
     "outputs": [],
     "prompt_number": 2
    }
   ],
   "metadata": {}
  }
 ]
}